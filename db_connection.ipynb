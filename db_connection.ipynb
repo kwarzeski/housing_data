{
 "cells": [
  {
   "cell_type": "markdown",
   "id": "bed1e270",
   "metadata": {},
   "source": [
    "# Conecting to housing_data_db"
   ]
  },
  {
   "cell_type": "code",
   "execution_count": 23,
   "id": "09864975",
   "metadata": {},
   "outputs": [],
   "source": [
    "# Python SQL toolkit and Object Relational Mapper\n",
    "import sqlalchemy\n",
    "from sqlalchemy.ext.automap import automap_base\n",
    "from sqlalchemy.orm import Session\n",
    "from sqlalchemy import create_engine"
   ]
  },
  {
   "cell_type": "code",
   "execution_count": 24,
   "id": "d1cb34f7",
   "metadata": {},
   "outputs": [],
   "source": [
    "# Create engine using database file\n",
    "engine = create_engine(\"sqlite:///housing_data.sqlite\")"
   ]
  },
  {
   "cell_type": "code",
   "execution_count": 25,
   "id": "8e8b885d",
   "metadata": {},
   "outputs": [],
   "source": [
    "# Declare a Base using `automap_base()`\n",
    "Base = automap_base()"
   ]
  },
  {
   "cell_type": "code",
   "execution_count": 26,
   "id": "0a3f480a",
   "metadata": {},
   "outputs": [],
   "source": [
    "# Use the Base class to reflect the database tables\n",
    "Base.prepare(engine, reflect=True)"
   ]
  },
  {
   "cell_type": "code",
   "execution_count": 27,
   "id": "bd2e330b",
   "metadata": {},
   "outputs": [
    {
     "data": {
      "text/plain": [
       "['Features', 'Location', 'Target']"
      ]
     },
     "execution_count": 27,
     "metadata": {},
     "output_type": "execute_result"
    }
   ],
   "source": [
    "# Print all of the classes mapped to the Base\n",
    "Base.classes.keys()"
   ]
  },
  {
   "cell_type": "code",
   "execution_count": 28,
   "id": "ba0510f0",
   "metadata": {},
   "outputs": [],
   "source": [
    "# Assign the Target class to a variable called 'target'\n",
    "target = Base.classes.Target"
   ]
  },
  {
   "cell_type": "code",
   "execution_count": 29,
   "id": "b354e53b",
   "metadata": {},
   "outputs": [],
   "source": [
    "# Create a session\n",
    "session = Session(engine)"
   ]
  },
  {
   "cell_type": "code",
   "execution_count": 30,
   "id": "154355ce",
   "metadata": {},
   "outputs": [
    {
     "data": {
      "text/plain": [
       "{'_sa_instance_state': <sqlalchemy.orm.state.InstanceState at 0x1cff6089e08>,\n",
       " 'index': 'index',\n",
       " 'sale_prc': 'SALE_PRC'}"
      ]
     },
     "execution_count": 30,
     "metadata": {},
     "output_type": "execute_result"
    }
   ],
   "source": [
    "# Display the row's columns and data in dictionary format\n",
    "first_row = session.query(target).first()\n",
    "first_row.__dict__"
   ]
  },
  {
   "cell_type": "code",
   "execution_count": 31,
   "id": "e3dc51e2",
   "metadata": {},
   "outputs": [
    {
     "name": "stdout",
     "output_type": "stream",
     "text": [
      "('index', 'SALE_PRC')\n",
      "(0, 440000.0)\n",
      "(1, 349000.0)\n",
      "(2, 800000.0)\n",
      "(3, 988000.0)\n",
      "(4, 755000.0)\n",
      "(5, 630000.0)\n",
      "(6, 1020000.0)\n",
      "(7, 850000.0)\n",
      "(8, 250000.0)\n",
      "(9, 1220000.0)\n",
      "(10, 1160000.0)\n",
      "(11, 260000.0)\n",
      "(12, 178000.0)\n",
      "(13, 250000.0)\n"
     ]
    }
   ],
   "source": [
    "# Use the session to query target index and sale price table\n",
    "for row in session.query(target.index, target.sale_prc).limit(15).all():\n",
    "    print(row)"
   ]
  },
  {
   "cell_type": "code",
   "execution_count": null,
   "id": "eb7f3c73",
   "metadata": {},
   "outputs": [],
   "source": []
  }
 ],
 "metadata": {
  "kernelspec": {
   "display_name": "Python 3 (ipykernel)",
   "language": "python",
   "name": "python3"
  },
  "language_info": {
   "codemirror_mode": {
    "name": "ipython",
    "version": 3
   },
   "file_extension": ".py",
   "mimetype": "text/x-python",
   "name": "python",
   "nbconvert_exporter": "python",
   "pygments_lexer": "ipython3",
   "version": "3.7.13"
  }
 },
 "nbformat": 4,
 "nbformat_minor": 5
}
