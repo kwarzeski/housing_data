{
 "cells": [
  {
   "cell_type": "markdown",
   "id": "a17b69ad",
   "metadata": {},
   "source": [
    "# Connecting to the Server"
   ]
  },
  {
   "cell_type": "code",
   "execution_count": 1,
   "id": "ae14ad90",
   "metadata": {},
   "outputs": [],
   "source": [
    "# Import required modules\n",
    "import csv\n",
    "import sqlite3\n",
    "import io"
   ]
  },
  {
   "cell_type": "code",
   "execution_count": 2,
   "id": "b1343312",
   "metadata": {},
   "outputs": [],
   "source": [
    "# Connecting to the housing_data database\n",
    "conn = sqlite3.connect('housing_data.db')\n",
    "\n",
    "# Creating a cursor object to execute\n",
    "# SQL queries on a database table\n",
    "cursor = conn.cursor()"
   ]
  },
  {
   "cell_type": "code",
   "execution_count": 3,
   "id": "d765e232",
   "metadata": {},
   "outputs": [],
   "source": [
    "# create a function to look at all tables within the db\n",
    "def sql_fetch(conn):\n",
    "\n",
    "    cursorObj = conn.cursor()\n",
    "\n",
    "    cursorObj.execute('SELECT name from sqlite_master where type= \"table\"')\n",
    "\n",
    "    print(cursorObj.fetchall())"
   ]
  },
  {
   "cell_type": "code",
   "execution_count": 4,
   "id": "655ee348",
   "metadata": {},
   "outputs": [
    {
     "data": {
      "text/plain": [
       "<sqlite3.Cursor at 0x1e3872abb20>"
      ]
     },
     "execution_count": 4,
     "metadata": {},
     "output_type": "execute_result"
    }
   ],
   "source": [
    "# Table Definitions\n",
    "target_table = '''\n",
    "CREATE TABLE IF NOT EXISTS \"Target\" (\n",
    "    \"index\" int   NOT NULL,\n",
    "    \"sale_prc\" float   NOT NULL,\n",
    "    CONSTRAINT \"pk_Target\" PRIMARY KEY (\n",
    "        \"index\"\n",
    "     )\n",
    ");\n",
    "               '''\n",
    "\n",
    "features_table = '''\n",
    "CREATE TABLE IF NOT EXISTS \"Features\" (\n",
    "    \"index\" int   NOT NULL,\n",
    "    \"land_sqfoot\" float   NOT NULL,\n",
    "    \"tot_living_area\" float   NOT NULL,\n",
    "    \"spec_feat_val\" float   NOT NULL,\n",
    "    \"rail_dist\" float   NOT NULL,\n",
    "    \"ocean_dist\" float   NOT NULL,\n",
    "    \"water_dist\" float   NOT NULL,\n",
    "    \"cntr_dist\" float   NOT NULL,\n",
    "    \"subcntr_dist\" float   NOT NULL,\n",
    "    \"hwy_dist\" float   NOT NULL,\n",
    "    \"structure_age\" float   NOT NULL,\n",
    "    \"avno60plus\" float   NOT NULL,\n",
    "    \"month_sold\" float   NOT NULL,\n",
    "    \"structure_quality\" float   NOT NULL,\n",
    "    \"latitude_group\" float   NOT NULL,\n",
    "    \"longitude_group\" float   NOT NULL,\n",
    "    CONSTRAINT \"pk_Features\" PRIMARY KEY (\n",
    "        \"index\"\n",
    "     )\n",
    ");\n",
    "                 '''\n",
    "\n",
    "location_table = '''\n",
    "CREATE TABLE IF NOT EXISTS \"Location\" (\n",
    "    \"index\" int   NOT NULL,\n",
    "    \"latitude\" float   NOT NULL,\n",
    "    \"longitude\" float   NOT NULL,\n",
    "    CONSTRAINT \"pk_Location\" PRIMARY KEY (\n",
    "        \"index\"\n",
    "     )\n",
    ");\n",
    "                 '''\n",
    "\n",
    "# Creating the tables into our database\n",
    "cursor.execute(target_table)\n",
    "cursor.execute(features_table)\n",
    "cursor.execute(location_table)"
   ]
  },
  {
   "cell_type": "code",
   "execution_count": 5,
   "id": "1423ff3f",
   "metadata": {},
   "outputs": [
    {
     "name": "stdout",
     "output_type": "stream",
     "text": [
      "[('Target',), ('Features',), ('Location',)]\n"
     ]
    }
   ],
   "source": [
    "sql_fetch(conn)"
   ]
  },
  {
   "cell_type": "code",
   "execution_count": 6,
   "id": "6f138e61",
   "metadata": {},
   "outputs": [],
   "source": [
    "# cursor.execute('drop table if exists Location')\n",
    "# cursor.execute('drop table if exists Target')\n",
    "# cursor.execute('drop table if exists Features')"
   ]
  },
  {
   "cell_type": "markdown",
   "id": "c251b703",
   "metadata": {},
   "source": [
    "# Reading in the Data"
   ]
  },
  {
   "cell_type": "code",
   "execution_count": 7,
   "id": "b4a99d18",
   "metadata": {},
   "outputs": [
    {
     "ename": "FileNotFoundError",
     "evalue": "[Errno 2] No such file or directory: 'Resources/features.csv'",
     "output_type": "error",
     "traceback": [
      "\u001b[1;31m---------------------------------------------------------------------------\u001b[0m",
      "\u001b[1;31mFileNotFoundError\u001b[0m                         Traceback (most recent call last)",
      "\u001b[1;32m~\\AppData\\Local\\Temp/ipykernel_22952/3167926377.py\u001b[0m in \u001b[0;36m<module>\u001b[1;34m\u001b[0m\n\u001b[0;32m      1\u001b[0m \u001b[1;31m# Opening the csv files\u001b[0m\u001b[1;33m\u001b[0m\u001b[1;33m\u001b[0m\u001b[1;33m\u001b[0m\u001b[0m\n\u001b[1;32m----> 2\u001b[1;33m \u001b[0mfeatures_file\u001b[0m \u001b[1;33m=\u001b[0m \u001b[0mopen\u001b[0m\u001b[1;33m(\u001b[0m\u001b[1;34m'Resources/features.csv'\u001b[0m\u001b[1;33m)\u001b[0m\u001b[1;33m\u001b[0m\u001b[1;33m\u001b[0m\u001b[0m\n\u001b[0m\u001b[0;32m      3\u001b[0m \u001b[0mtarget_file\u001b[0m \u001b[1;33m=\u001b[0m \u001b[0mopen\u001b[0m\u001b[1;33m(\u001b[0m\u001b[1;34m'Resources/target.csv'\u001b[0m\u001b[1;33m)\u001b[0m\u001b[1;33m\u001b[0m\u001b[1;33m\u001b[0m\u001b[0m\n\u001b[0;32m      4\u001b[0m \u001b[0mlocation_file\u001b[0m \u001b[1;33m=\u001b[0m \u001b[0mopen\u001b[0m\u001b[1;33m(\u001b[0m\u001b[1;34m'Resources/location.csv'\u001b[0m\u001b[1;33m)\u001b[0m\u001b[1;33m\u001b[0m\u001b[1;33m\u001b[0m\u001b[0m\n\u001b[0;32m      5\u001b[0m \u001b[1;33m\u001b[0m\u001b[0m\n",
      "\u001b[1;31mFileNotFoundError\u001b[0m: [Errno 2] No such file or directory: 'Resources/features.csv'"
     ]
    }
   ],
   "source": [
    "# Opening the csv files\n",
    "features_file = open('Resources/features.csv')\n",
    "target_file = open('Resources/target.csv')\n",
    "location_file = open('Resources/location.csv')\n",
    "\n",
    "# Reading the contents of the files\n",
    "features_contents = csv.reader(features_file)\n",
    "target_contents = csv.reader(target_file)\n",
    "location_contents = csv.reader(location_file)"
   ]
  },
  {
   "cell_type": "code",
   "execution_count": null,
   "id": "bb07af1e",
   "metadata": {},
   "outputs": [],
   "source": [
    "# SQL query to insert data into the tables\n",
    "target_records = \"INSERT INTO Target ('index', 'sale_prc') VALUES(?, ?)\"\n",
    "features_records = \"INSERT INTO Features ('index', 'land_sqfoot', 'tot_living_area', 'spec_feat_val', 'rail_dist', 'ocean_dist', 'water_dist', 'cntr_dist', 'subcntr_dist', 'hwy_dist', 'structure_age', 'avno60plus', 'month_sold', 'structure_quality', 'latitude_group', 'longitude_group') VALUES(?, ?, ?, ?, ?, ?, ?, ?, ?, ?, ?, ?, ?, ?, ?, ?)\"\n",
    "location_records = \"INSERT INTO Location ('index', 'latitude', 'longitude') VALUES(?, ?, ?)\"\n",
    "\n",
    "# Importing the contents of the file into the tables\n",
    "cursor.executemany(target_records, target_contents)\n",
    "cursor.executemany(features_records, features_contents)\n",
    "cursor.executemany(location_records, location_contents)"
   ]
  },
  {
   "cell_type": "code",
   "execution_count": null,
   "id": "b7b9098b",
   "metadata": {},
   "outputs": [],
   "source": [
    "# SQL query to retrieve all data from Target table to confirm data of the csv file has been successfully inserted into the table\n",
    "# features\n",
    "features_select = \"SELECT * FROM Features\"\n",
    "features_rows = cursor.execute(features_select).fetchall()\n",
    "# target\n",
    "target_select = \"SELECT * FROM Target\"\n",
    "target_rows = cursor.execute(target_select).fetchall()\n",
    "# location\n",
    "location_select = \"SELECT * FROM Location\"\n",
    "location_rows = cursor.execute(location_select).fetchall()"
   ]
  },
  {
   "cell_type": "code",
   "execution_count": null,
   "id": "87d029e0",
   "metadata": {},
   "outputs": [],
   "source": [
    "# Output features to the console screen\n",
    "for r in features_rows:\n",
    "    print(r)"
   ]
  },
  {
   "cell_type": "code",
   "execution_count": null,
   "id": "3dfe0042",
   "metadata": {},
   "outputs": [],
   "source": [
    "# Output target to the console screen\n",
    "for r in target_rows:\n",
    "    print(r)"
   ]
  },
  {
   "cell_type": "code",
   "execution_count": null,
   "id": "877b43d6",
   "metadata": {},
   "outputs": [],
   "source": [
    "# Output location to the console screen\n",
    "for r in location_rows:\n",
    "    print(r)"
   ]
  },
  {
   "cell_type": "code",
   "execution_count": null,
   "id": "ba1319ea",
   "metadata": {},
   "outputs": [],
   "source": [
    "# Committing the changes\n",
    "conn.commit()"
   ]
  },
  {
   "cell_type": "code",
   "execution_count": null,
   "id": "e3023495",
   "metadata": {},
   "outputs": [],
   "source": [
    "with io.open('backupdatabase.sql', 'w') as p:\n",
    "  for line in conn.iterdump():\n",
    "      p.write('%s\\n' % line)"
   ]
  },
  {
   "cell_type": "code",
   "execution_count": null,
   "id": "662f651b",
   "metadata": {},
   "outputs": [],
   "source": [
    "# closing the database connection\n",
    "conn.close()"
   ]
  },
  {
   "cell_type": "code",
   "execution_count": null,
   "id": "14b38bc6",
   "metadata": {},
   "outputs": [],
   "source": []
  }
 ],
 "metadata": {
  "kernelspec": {
   "display_name": "PythonData",
   "language": "python",
   "name": "pythondata"
  },
  "language_info": {
   "codemirror_mode": {
    "name": "ipython",
    "version": 3
   },
   "file_extension": ".py",
   "mimetype": "text/x-python",
   "name": "python",
   "nbconvert_exporter": "python",
   "pygments_lexer": "ipython3",
   "version": "3.7.11"
  }
 },
 "nbformat": 4,
 "nbformat_minor": 5
}
